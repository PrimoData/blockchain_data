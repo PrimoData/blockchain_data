{
  "cells": [
    {
      "cell_type": "markdown",
      "metadata": {
        "id": "U2cIERTiROa_"
      },
      "source": [
        "# Query Blockchain Data\n",
        "**Purpose:** Learn how to easily query raw blockchain data via APIs from leading blockchain analytics platforms.\n",
        "\n",
        "Free:\n",
        "* [Flipside](https://flipsidecrypto.xyz/)\n",
        "* [Dune](https://dune.com/home)\n",
        "* [BigQuery](https://console.cloud.google.com/marketplace/browse)\n",
        "* [Transpose](https://www.transpose.io/)\n",
        "* [Chainbase](https://chainbase.online/)\n",
        "\n",
        "Paid:\n",
        "* [Spice](https://spice.xyz/)\n",
        "* [Allium](https://www.allium.so/)\n",
        "* [Footprint](https://footprint.network/)\n",
        "\n",
        "Snowflake:\n",
        "* [Coherent](https://coherent.xyz/)\n",
        "* [Token Flow](https://tokenflow.live/)\n",
        "* [Credmark](https://credmark.com/)\n"
      ]
    },
    {
      "cell_type": "code",
      "execution_count": 7,
      "metadata": {
        "id": "qC-Gh5WzVRUy"
      },
      "outputs": [],
      "source": [
        "import json\n",
        "import pandas as pd\n",
        "import os\n",
        "import json\n",
        "from shroomdk import ShroomDK\n",
        "from google.cloud import bigquery, bigquery_storage, storage\n",
        "import time\n",
        "import requests\n",
        "import math\n",
        "from spicepy import Client\n",
        "from sqlalchemy import create_engine\n",
        "from snowflake.connector.pandas_tools import write_pandas\n",
        "from snowflake.sqlalchemy import URL\n",
        "from transpose import Transpose\n",
        "import datetime"
      ]
    },
    {
      "cell_type": "code",
      "execution_count": 40,
      "metadata": {},
      "outputs": [],
      "source": [
        "with open(\"keys.json\", \"r\") as keys_file:\n",
        "    keys = json.load(keys_file)\n",
        "    flipside_key = keys[\"flipside_key\"]\n",
        "    chainbase_key = keys[\"chainbase_key\"]\n",
        "    makerdojo_key = keys[\"makerdojo_key\"]\n",
        "    spice_key = keys[\"spice_key\"]\n",
        "    footprint_key = keys[\"footprint_key\"]\n",
        "    transpose_key = keys[\"transpose_key\"]\n",
        "    snowflake_account = keys[\"snowflake_account\"]\n",
        "    snowflake_user = keys[\"snowflake_user\"]\n",
        "    snowflake_password = keys[\"snowflake_password\"]\n",
        "    snowflake_warehouse = keys[\"snowflake_warehouse\"]\n",
        "    dune_key = keys[\"dune_key\"]\n",
        "    allium_key = keys[\"allium_key\"]\n",
        "\n",
        "os.environ[\"GOOGLE_APPLICATION_CREDENTIALS\"] = \"keys.json\""
      ]
    },
    {
      "cell_type": "code",
      "execution_count": 41,
      "metadata": {},
      "outputs": [],
      "source": [
        "def run_query(q, provider):\n",
        "    start = datetime.datetime.now()\n",
        "\n",
        "    # Dictionary of provider names and their respective query functions\n",
        "    provider_query = {\n",
        "        \"flipside\": query_flipside,\n",
        "        \"transpose\": query_transpose,\n",
        "        \"bigquery\": query_bigquery,\n",
        "        \"dune\": query_dune,\n",
        "        \"chainbase\": query_chainbase,\n",
        "        \"spice\": query_spice,\n",
        "        \"coherent\": query_snowflake,\n",
        "        \"tokenflow\": query_snowflake,\n",
        "        \"allium\": query_allium,\n",
        "        \"credmark\": query_snowflake,\n",
        "        \"footprint\": query_footprint,\n",
        "    }\n",
        "    df = provider_query[provider](q)\n",
        "\n",
        "    end = datetime.datetime.now()\n",
        "    runtime = int((end - start).total_seconds())\n",
        "    df[\"runtime_sec\"] = runtime\n",
        "    df[\"provider\"] = provider\n",
        "\n",
        "    return df"
      ]
    },
    {
      "cell_type": "markdown",
      "metadata": {
        "id": "DuFwUeDwRksV"
      },
      "source": [
        "## [Flipside](https://flipsidecrypto.xyz/)"
      ]
    },
    {
      "cell_type": "code",
      "execution_count": 10,
      "metadata": {
        "colab": {
          "base_uri": "https://localhost:8080/",
          "height": 386
        },
        "id": "Gs3ndPZIRY5N",
        "outputId": "11c34661-b7ca-4729-cd1e-b12fba8c4b89"
      },
      "outputs": [],
      "source": [
        "# Query Flipside using their Python SDK\n",
        "def query_flipside(q):\n",
        "    sdk = ShroomDK(flipside_key)\n",
        "    result_list = []\n",
        "    for i in range(1, 11):  # max is a million rows @ 100k per page\n",
        "        data = sdk.query(q, page_size=100000, page_number=i)\n",
        "        if data.run_stats.record_count == 0:\n",
        "            break\n",
        "        else:\n",
        "            result_list.append(data.records)\n",
        "    result_df = pd.DataFrame()\n",
        "    for idx, each_list in enumerate(result_list):\n",
        "        if idx == 0:\n",
        "            result_df = pd.json_normalize(each_list)\n",
        "        else:\n",
        "            try:\n",
        "                result_df = pd.concat([result_df, pd.json_normalize(each_list)])\n",
        "            except:\n",
        "                continue\n",
        "    result_df.drop(columns=[\"__row_index\"], inplace=True)\n",
        "    return result_df"
      ]
    },
    {
      "cell_type": "code",
      "execution_count": 11,
      "metadata": {},
      "outputs": [
        {
          "data": {
            "text/html": [
              "<div>\n",
              "<style scoped>\n",
              "    .dataframe tbody tr th:only-of-type {\n",
              "        vertical-align: middle;\n",
              "    }\n",
              "\n",
              "    .dataframe tbody tr th {\n",
              "        vertical-align: top;\n",
              "    }\n",
              "\n",
              "    .dataframe thead th {\n",
              "        text-align: right;\n",
              "    }\n",
              "</style>\n",
              "<table border=\"1\" class=\"dataframe\">\n",
              "  <thead>\n",
              "    <tr style=\"text-align: right;\">\n",
              "      <th></th>\n",
              "      <th>first_block_num</th>\n",
              "      <th>first_block_dttm</th>\n",
              "      <th>last_block_num</th>\n",
              "      <th>last_block_dttm</th>\n",
              "      <th>latency_sec</th>\n",
              "      <th>total_blocks</th>\n",
              "      <th>runtime_sec</th>\n",
              "      <th>provider</th>\n",
              "    </tr>\n",
              "  </thead>\n",
              "  <tbody>\n",
              "    <tr>\n",
              "      <th>0</th>\n",
              "      <td>1</td>\n",
              "      <td>2015-07-30T15:26:28.000Z</td>\n",
              "      <td>17459911</td>\n",
              "      <td>2023-06-11T22:44:47.000Z</td>\n",
              "      <td>1719</td>\n",
              "      <td>17459911</td>\n",
              "      <td>17</td>\n",
              "      <td>flipside</td>\n",
              "    </tr>\n",
              "  </tbody>\n",
              "</table>\n",
              "</div>"
            ],
            "text/plain": [
              "   first_block_num          first_block_dttm  last_block_num  \\\n",
              "0                1  2015-07-30T15:26:28.000Z        17459911   \n",
              "\n",
              "            last_block_dttm  latency_sec  total_blocks  runtime_sec  provider  \n",
              "0  2023-06-11T22:44:47.000Z         1719      17459911           17  flipside  "
            ]
          },
          "execution_count": 11,
          "metadata": {},
          "output_type": "execute_result"
        }
      ],
      "source": [
        "q = \"\"\"\n",
        "select \n",
        "    min(block_number) first_block_num\n",
        "    , min(block_timestamp) first_block_dttm\n",
        "    , max(block_number) last_block_num\n",
        "    , max(block_timestamp) last_block_dttm\n",
        "    , datediff('second', max(block_timestamp), current_timestamp) latency_sec\n",
        "    , count(1) total_blocks\n",
        "from ethereum.core.fact_blocks\n",
        "\"\"\"\n",
        "flipside_df = run_query(q, \"flipside\")\n",
        "flipside_df"
      ]
    },
    {
      "cell_type": "markdown",
      "metadata": {
        "id": "RAHuOGigPBfv"
      },
      "source": [
        "## [Dune](https://dune.com/home)"
      ]
    },
    {
      "cell_type": "code",
      "execution_count": 12,
      "metadata": {},
      "outputs": [],
      "source": [
        "# Query Dune Analytics using API\n",
        "def query_dune(q):\n",
        "    url = f\"https://api.dune.com/api/v1/query/2296642/results?api_key={dune_key}\"\n",
        "    response = requests.get(url)\n",
        "    results_json = json.loads(response.text)[\"result\"][\"rows\"]\n",
        "    results_df = pd.DataFrame.from_dict(results_json)\n",
        "    return results_df"
      ]
    },
    {
      "cell_type": "code",
      "execution_count": 13,
      "metadata": {},
      "outputs": [
        {
          "data": {
            "text/html": [
              "<div>\n",
              "<style scoped>\n",
              "    .dataframe tbody tr th:only-of-type {\n",
              "        vertical-align: middle;\n",
              "    }\n",
              "\n",
              "    .dataframe tbody tr th {\n",
              "        vertical-align: top;\n",
              "    }\n",
              "\n",
              "    .dataframe thead th {\n",
              "        text-align: right;\n",
              "    }\n",
              "</style>\n",
              "<table border=\"1\" class=\"dataframe\">\n",
              "  <thead>\n",
              "    <tr style=\"text-align: right;\">\n",
              "      <th></th>\n",
              "      <th>first_block_dttm</th>\n",
              "      <th>first_block_num</th>\n",
              "      <th>last_block_dttm</th>\n",
              "      <th>last_block_num</th>\n",
              "      <th>latency_sec</th>\n",
              "      <th>total_blocks</th>\n",
              "      <th>runtime_sec</th>\n",
              "      <th>provider</th>\n",
              "    </tr>\n",
              "  </thead>\n",
              "  <tbody>\n",
              "    <tr>\n",
              "      <th>0</th>\n",
              "      <td>2015-07-30 15:26:28.000 UTC</td>\n",
              "      <td>1</td>\n",
              "      <td>2023-06-11 04:02:47.000 UTC</td>\n",
              "      <td>17454380</td>\n",
              "      <td>198</td>\n",
              "      <td>17454380</td>\n",
              "      <td>0</td>\n",
              "      <td>dune</td>\n",
              "    </tr>\n",
              "  </tbody>\n",
              "</table>\n",
              "</div>"
            ],
            "text/plain": [
              "              first_block_dttm  first_block_num              last_block_dttm  \\\n",
              "0  2015-07-30 15:26:28.000 UTC                1  2023-06-11 04:02:47.000 UTC   \n",
              "\n",
              "   last_block_num  latency_sec  total_blocks  runtime_sec provider  \n",
              "0        17454380          198      17454380            0     dune  "
            ]
          },
          "execution_count": 13,
          "metadata": {},
          "output_type": "execute_result"
        }
      ],
      "source": [
        "# https://dune.com/queries/2296642\n",
        "q = \"2296642\"\n",
        "dune_df = run_query(q, \"dune\")\n",
        "dune_df"
      ]
    },
    {
      "cell_type": "markdown",
      "metadata": {
        "id": "PUS4seCVBTVY"
      },
      "source": [
        "## [Google BigQuery](https://console.cloud.google.com/marketplace/browse)"
      ]
    },
    {
      "cell_type": "code",
      "execution_count": 14,
      "metadata": {
        "colab": {
          "base_uri": "https://localhost:8080/",
          "height": 386
        },
        "id": "t9M9ilyWBTE3",
        "outputId": "64b1d5c1-419e-4951-9143-915e53012ced"
      },
      "outputs": [],
      "source": [
        "# Query BigQuery using their Python SDK\n",
        "def query_bigquery(q):\n",
        "    connection = bigquery_storage.BigQueryReadClient()\n",
        "    bqclient = bigquery.Client()\n",
        "    results_df = bqclient.query(q).result().to_dataframe(bqstorage_client=connection)\n",
        "    return results_df"
      ]
    },
    {
      "cell_type": "code",
      "execution_count": 15,
      "metadata": {},
      "outputs": [
        {
          "data": {
            "text/html": [
              "<div>\n",
              "<style scoped>\n",
              "    .dataframe tbody tr th:only-of-type {\n",
              "        vertical-align: middle;\n",
              "    }\n",
              "\n",
              "    .dataframe tbody tr th {\n",
              "        vertical-align: top;\n",
              "    }\n",
              "\n",
              "    .dataframe thead th {\n",
              "        text-align: right;\n",
              "    }\n",
              "</style>\n",
              "<table border=\"1\" class=\"dataframe\">\n",
              "  <thead>\n",
              "    <tr style=\"text-align: right;\">\n",
              "      <th></th>\n",
              "      <th>first_block_num</th>\n",
              "      <th>first_block_dttm</th>\n",
              "      <th>last_block_num</th>\n",
              "      <th>last_block_dttm</th>\n",
              "      <th>latency_sec</th>\n",
              "      <th>total_blocks</th>\n",
              "      <th>runtime_sec</th>\n",
              "      <th>provider</th>\n",
              "    </tr>\n",
              "  </thead>\n",
              "  <tbody>\n",
              "    <tr>\n",
              "      <th>0</th>\n",
              "      <td>0</td>\n",
              "      <td>1970-01-01 00:00:00+00:00</td>\n",
              "      <td>17460034</td>\n",
              "      <td>2023-06-11 23:09:47+00:00</td>\n",
              "      <td>232</td>\n",
              "      <td>17460035</td>\n",
              "      <td>10</td>\n",
              "      <td>bigquery</td>\n",
              "    </tr>\n",
              "  </tbody>\n",
              "</table>\n",
              "</div>"
            ],
            "text/plain": [
              "   first_block_num          first_block_dttm  last_block_num  \\\n",
              "0                0 1970-01-01 00:00:00+00:00        17460034   \n",
              "\n",
              "            last_block_dttm  latency_sec  total_blocks  runtime_sec  provider  \n",
              "0 2023-06-11 23:09:47+00:00          232      17460035           10  bigquery  "
            ]
          },
          "execution_count": 15,
          "metadata": {},
          "output_type": "execute_result"
        }
      ],
      "source": [
        "q = \"\"\"\n",
        "select\n",
        "    min(number) as first_block_num\n",
        "    , min(`timestamp`) as first_block_dttm \n",
        "    , max(number) as last_block_num\n",
        "    , max(`timestamp`) as last_block_dttm\n",
        "    , timestamp_diff(current_timestamp(), max(`timestamp`), second) latency_sec\n",
        "    , count(1) total_blocks\n",
        "from `bigquery-public-data.crypto_ethereum.blocks`\n",
        "\"\"\"\n",
        "bigquery_df = run_query(q, \"bigquery\")\n",
        "bigquery_df"
      ]
    },
    {
      "cell_type": "markdown",
      "metadata": {
        "id": "3Zpev1GhXjBK"
      },
      "source": [
        "## [Transpose](https://www.transpose.io/)"
      ]
    },
    {
      "cell_type": "code",
      "execution_count": 16,
      "metadata": {
        "colab": {
          "base_uri": "https://localhost:8080/",
          "height": 363
        },
        "id": "pyGLUCdtZEeY",
        "outputId": "8ad31eb3-3c36-42c7-a9bb-9ed41351ac59"
      },
      "outputs": [],
      "source": [
        "# Query Transpose using their API\n",
        "def query_transpose(q):\n",
        "    url = \"https://api.transpose.io/sql\"\n",
        "    headers = {\n",
        "        \"Content-Type\": \"application/json\",\n",
        "        \"X-API-KEY\": transpose_key,\n",
        "    }\n",
        "    response = requests.post(\n",
        "        url,\n",
        "        headers=headers,\n",
        "        json={\n",
        "            \"sql\": q,\n",
        "        },\n",
        "    )\n",
        "    results_json = json.loads(response.text)[\"results\"]\n",
        "    results_df = pd.DataFrame.from_dict(results_json)\n",
        "    return results_df"
      ]
    },
    {
      "cell_type": "code",
      "execution_count": 28,
      "metadata": {},
      "outputs": [
        {
          "data": {
            "text/html": [
              "<div>\n",
              "<style scoped>\n",
              "    .dataframe tbody tr th:only-of-type {\n",
              "        vertical-align: middle;\n",
              "    }\n",
              "\n",
              "    .dataframe tbody tr th {\n",
              "        vertical-align: top;\n",
              "    }\n",
              "\n",
              "    .dataframe thead th {\n",
              "        text-align: right;\n",
              "    }\n",
              "</style>\n",
              "<table border=\"1\" class=\"dataframe\">\n",
              "  <thead>\n",
              "    <tr style=\"text-align: right;\">\n",
              "      <th></th>\n",
              "      <th>first_block_num</th>\n",
              "      <th>first_block_dttm</th>\n",
              "      <th>last_block_num</th>\n",
              "      <th>last_block_dttm</th>\n",
              "      <th>latency_sec</th>\n",
              "      <th>total_blocks</th>\n",
              "      <th>runtime_sec</th>\n",
              "      <th>provider</th>\n",
              "    </tr>\n",
              "  </thead>\n",
              "  <tbody>\n",
              "    <tr>\n",
              "      <th>0</th>\n",
              "      <td>1</td>\n",
              "      <td>2015-07-30T15:26:28Z</td>\n",
              "      <td>17460098</td>\n",
              "      <td>2023-06-11T23:22:35Z</td>\n",
              "      <td>6</td>\n",
              "      <td>17460098</td>\n",
              "      <td>10</td>\n",
              "      <td>transpose</td>\n",
              "    </tr>\n",
              "  </tbody>\n",
              "</table>\n",
              "</div>"
            ],
            "text/plain": [
              "   first_block_num      first_block_dttm  last_block_num  \\\n",
              "0                1  2015-07-30T15:26:28Z        17460098   \n",
              "\n",
              "        last_block_dttm  latency_sec  total_blocks  runtime_sec   provider  \n",
              "0  2023-06-11T23:22:35Z            6      17460098           10  transpose  "
            ]
          },
          "execution_count": 28,
          "metadata": {},
          "output_type": "execute_result"
        }
      ],
      "source": [
        "q = f\"\"\"\n",
        "select \n",
        "    min(block_number) first_block_num\n",
        "    , min(timestamp) first_block_dttm\n",
        "    , max(block_number) last_block_num\n",
        "    , max(timestamp) last_block_dttm\n",
        "    , EXTRACT(EPOCH FROM NOW() - MAX(blocks.timestamp))::INTEGER latency_sec\n",
        "    , count(1) total_blocks\n",
        "from ethereum.blocks\n",
        "\"\"\"\n",
        "transpose_df = run_query(q, \"transpose\")\n",
        "transpose_df"
      ]
    },
    {
      "cell_type": "markdown",
      "metadata": {},
      "source": [
        "## [Chainbase](https://chainbase.online/)"
      ]
    },
    {
      "cell_type": "code",
      "execution_count": 29,
      "metadata": {},
      "outputs": [],
      "source": [
        "# Query Chainbase using their REST API\n",
        "def query_chainbase(q):\n",
        "    url = \"https://api.chainbase.online/v1/dw/query\"\n",
        "    payload = {\"query\": q}\n",
        "    headers = {\"x-api-key\": chainbase_key}\n",
        "    response = requests.post(url, json=payload, headers=headers)\n",
        "    task_id = response.json()[\"data\"][\"task_id\"]\n",
        "    row_ct = response.json()[\"data\"][\"rows\"]\n",
        "    all_results_df = pd.DataFrame([])\n",
        "    row_ct = math.ceil(response.json()[\"data\"][\"rows\"] / 1000)\n",
        "    if row_ct == 1:\n",
        "        data = response.json()[\"data\"][\"result\"]\n",
        "        all_results_df = pd.json_normalize(data)\n",
        "    else:\n",
        "        time.sleep(2)\n",
        "        for i in range(0, row_ct, 1):\n",
        "            payload = {\"task_id\": task_id, \"page\": i + 1}\n",
        "            response = requests.post(url, json=payload, headers=headers)\n",
        "            data = response.json()[\"data\"][\"result\"]\n",
        "            results_df = pd.json_normalize(data)\n",
        "            all_results_df = pd.concat([all_results_df, results_df])\n",
        "            time.sleep(2)\n",
        "    return all_results_df"
      ]
    },
    {
      "cell_type": "code",
      "execution_count": 30,
      "metadata": {},
      "outputs": [
        {
          "data": {
            "text/html": [
              "<div>\n",
              "<style scoped>\n",
              "    .dataframe tbody tr th:only-of-type {\n",
              "        vertical-align: middle;\n",
              "    }\n",
              "\n",
              "    .dataframe tbody tr th {\n",
              "        vertical-align: top;\n",
              "    }\n",
              "\n",
              "    .dataframe thead th {\n",
              "        text-align: right;\n",
              "    }\n",
              "</style>\n",
              "<table border=\"1\" class=\"dataframe\">\n",
              "  <thead>\n",
              "    <tr style=\"text-align: right;\">\n",
              "      <th></th>\n",
              "      <th>first_block_dttm</th>\n",
              "      <th>first_block_num</th>\n",
              "      <th>last_block_dttm</th>\n",
              "      <th>last_block_num</th>\n",
              "      <th>latency_sec</th>\n",
              "      <th>total_blocks</th>\n",
              "      <th>runtime_sec</th>\n",
              "      <th>provider</th>\n",
              "    </tr>\n",
              "  </thead>\n",
              "  <tbody>\n",
              "    <tr>\n",
              "      <th>0</th>\n",
              "      <td>1970-01-01 00:00:01</td>\n",
              "      <td>0</td>\n",
              "      <td>2023-06-11 23:22:11</td>\n",
              "      <td>17460096</td>\n",
              "      <td>49</td>\n",
              "      <td>17461780</td>\n",
              "      <td>0</td>\n",
              "      <td>chainbase</td>\n",
              "    </tr>\n",
              "  </tbody>\n",
              "</table>\n",
              "</div>"
            ],
            "text/plain": [
              "      first_block_dttm first_block_num      last_block_dttm last_block_num  \\\n",
              "0  1970-01-01 00:00:01               0  2023-06-11 23:22:11       17460096   \n",
              "\n",
              "   latency_sec total_blocks  runtime_sec   provider  \n",
              "0           49     17461780            0  chainbase  "
            ]
          },
          "execution_count": 30,
          "metadata": {},
          "output_type": "execute_result"
        }
      ],
      "source": [
        "q = \"\"\"\n",
        "select \n",
        "    min(number) first_block_num\n",
        "    , min(timestamp) first_block_dttm\n",
        "    , max(number) last_block_num\n",
        "    , max(timestamp) last_block_dttm\n",
        "    , (now() - max(timestamp)) latency_sec\n",
        "    , count(1) total_blocks\n",
        "from ethereum.blocks\n",
        "\"\"\"\n",
        "chainbase_df = run_query(q, \"chainbase\")\n",
        "chainbase_df"
      ]
    },
    {
      "cell_type": "markdown",
      "metadata": {},
      "source": [
        "## [Spice](https://spice.xyz/)"
      ]
    },
    {
      "cell_type": "code",
      "execution_count": 31,
      "metadata": {},
      "outputs": [],
      "source": [
        "# Query Spice using their SDK\n",
        "def query_spice(q):\n",
        "    client = Client(spice_key)\n",
        "    reader = client.query(q)\n",
        "    results_df = reader.read_pandas()\n",
        "    return results_df"
      ]
    },
    {
      "cell_type": "code",
      "execution_count": 32,
      "metadata": {},
      "outputs": [
        {
          "data": {
            "text/html": [
              "<div>\n",
              "<style scoped>\n",
              "    .dataframe tbody tr th:only-of-type {\n",
              "        vertical-align: middle;\n",
              "    }\n",
              "\n",
              "    .dataframe tbody tr th {\n",
              "        vertical-align: top;\n",
              "    }\n",
              "\n",
              "    .dataframe thead th {\n",
              "        text-align: right;\n",
              "    }\n",
              "</style>\n",
              "<table border=\"1\" class=\"dataframe\">\n",
              "  <thead>\n",
              "    <tr style=\"text-align: right;\">\n",
              "      <th></th>\n",
              "      <th>first_block_num</th>\n",
              "      <th>first_block_dttm</th>\n",
              "      <th>last_block_num</th>\n",
              "      <th>last_block_dttm</th>\n",
              "      <th>latency_sec</th>\n",
              "      <th>total_blocks</th>\n",
              "      <th>runtime_sec</th>\n",
              "      <th>provider</th>\n",
              "    </tr>\n",
              "  </thead>\n",
              "  <tbody>\n",
              "    <tr>\n",
              "      <th>0</th>\n",
              "      <td>0</td>\n",
              "      <td>1970-01-01</td>\n",
              "      <td>17460100</td>\n",
              "      <td>2023-06-11 23:22:59</td>\n",
              "      <td>7</td>\n",
              "      <td>17460101</td>\n",
              "      <td>2</td>\n",
              "      <td>spice</td>\n",
              "    </tr>\n",
              "  </tbody>\n",
              "</table>\n",
              "</div>"
            ],
            "text/plain": [
              "   first_block_num first_block_dttm  last_block_num     last_block_dttm  \\\n",
              "0                0       1970-01-01        17460100 2023-06-11 23:22:59   \n",
              "\n",
              "   latency_sec  total_blocks  runtime_sec provider  \n",
              "0            7      17460101            2    spice  "
            ]
          },
          "execution_count": 32,
          "metadata": {},
          "output_type": "execute_result"
        }
      ],
      "source": [
        "q = \"\"\"\n",
        "select \n",
        "    min(number) first_block_num\n",
        "    , to_timestamp(min(\"timestamp\")) first_block_dttm\n",
        "    , max(number) last_block_num\n",
        "    , to_timestamp(max(\"timestamp\")) last_block_dttm\n",
        "    , timestampdiff(second, to_timestamp(max(\"timestamp\")), current_timestamp) latency_sec\n",
        "    , count(1) total_blocks\n",
        "from eth.blocks\n",
        "\"\"\"\n",
        "spice_df = run_query(q, \"spice\")\n",
        "spice_df"
      ]
    },
    {
      "cell_type": "markdown",
      "metadata": {},
      "source": [
        "## [Coherent](https://coherent.xyz/)"
      ]
    },
    {
      "cell_type": "code",
      "execution_count": null,
      "metadata": {},
      "outputs": [],
      "source": [
        "# Query Coherent using their Snowflake API\n",
        "def query_snowflake(q):\n",
        "    conn = create_engine(\n",
        "        URL(\n",
        "            account=snowflake_account,\n",
        "            user=snowflake_user,\n",
        "            password=snowflake_password,\n",
        "            warehouse=snowflake_warehouse,\n",
        "        )\n",
        "    )\n",
        "    connection = conn.raw_connection()\n",
        "    q_results = connection.cursor().execute(q)\n",
        "    result_df = q_results.fetch_pandas_all()\n",
        "    result_df.columns = result_df.columns.str.lower()\n",
        "    return result_df"
      ]
    },
    {
      "cell_type": "code",
      "execution_count": null,
      "metadata": {},
      "outputs": [],
      "source": [
        "q = \"\"\"\n",
        "\"\"\"\n",
        "# coherent_df = run_query(q, \"coherent\")\n",
        "# coherent_df"
      ]
    },
    {
      "cell_type": "markdown",
      "metadata": {},
      "source": [
        "## [Credmark](https://credmark.com/)"
      ]
    },
    {
      "cell_type": "code",
      "execution_count": null,
      "metadata": {},
      "outputs": [],
      "source": [
        "q = \"\"\"\n",
        "\"\"\"\n",
        "# credmark_df = run_query(q, \"credmark\")\n",
        "# credmark_df"
      ]
    },
    {
      "cell_type": "markdown",
      "metadata": {},
      "source": [
        "## [Token Flow](https://tokenflow.live/)"
      ]
    },
    {
      "cell_type": "code",
      "execution_count": null,
      "metadata": {},
      "outputs": [
        {
          "data": {
            "text/html": [
              "<div>\n",
              "<style scoped>\n",
              "    .dataframe tbody tr th:only-of-type {\n",
              "        vertical-align: middle;\n",
              "    }\n",
              "\n",
              "    .dataframe tbody tr th {\n",
              "        vertical-align: top;\n",
              "    }\n",
              "\n",
              "    .dataframe thead th {\n",
              "        text-align: right;\n",
              "    }\n",
              "</style>\n",
              "<table border=\"1\" class=\"dataframe\">\n",
              "  <thead>\n",
              "    <tr style=\"text-align: right;\">\n",
              "      <th></th>\n",
              "      <th>first_block_num</th>\n",
              "      <th>first_block_dttm</th>\n",
              "      <th>last_block_num</th>\n",
              "      <th>last_block_dttm</th>\n",
              "      <th>latency_sec</th>\n",
              "      <th>total_blocks</th>\n",
              "      <th>runtime_sec</th>\n",
              "      <th>provider</th>\n",
              "    </tr>\n",
              "  </thead>\n",
              "  <tbody>\n",
              "    <tr>\n",
              "      <th>0</th>\n",
              "      <td>0</td>\n",
              "      <td>1970-01-01</td>\n",
              "      <td>17460022</td>\n",
              "      <td>2023-06-11 23:07:23</td>\n",
              "      <td>-24898</td>\n",
              "      <td>17460023</td>\n",
              "      <td>2</td>\n",
              "      <td>tokenflow</td>\n",
              "    </tr>\n",
              "  </tbody>\n",
              "</table>\n",
              "</div>"
            ],
            "text/plain": [
              "   first_block_num first_block_dttm  last_block_num     last_block_dttm  \\\n",
              "0                0       1970-01-01        17460022 2023-06-11 23:07:23   \n",
              "\n",
              "   latency_sec  total_blocks  runtime_sec   provider  \n",
              "0       -24898      17460023            2  tokenflow  "
            ]
          },
          "execution_count": 6,
          "metadata": {},
          "output_type": "execute_result"
        }
      ],
      "source": [
        "q = \"\"\"\n",
        "select \n",
        "    min(block) first_block_num\n",
        "    , min(timestamp) first_block_dttm\n",
        "    , max(block) last_block_num\n",
        "    , max(timestamp) last_block_dttm\n",
        "    , datediff('second', max(timestamp), current_timestamp) latency_sec\n",
        "    , count(1) total_blocks\n",
        "from ethereum_data_warehouse_beta.raw.blocks\n",
        "\"\"\"\n",
        "tokenflow_df = run_query(q, \"tokenflow\")\n",
        "tokenflow_df"
      ]
    },
    {
      "cell_type": "markdown",
      "metadata": {},
      "source": [
        "## [Allium](https://www.allium.so/)"
      ]
    },
    {
      "cell_type": "code",
      "execution_count": 24,
      "metadata": {},
      "outputs": [],
      "source": [
        "# Query Allium using their API\n",
        "def query_allium(q):\n",
        "    response = requests.post(\n",
        "        f\"https://api.allium.so/api/v1/explorer/queries/{q}/run\",\n",
        "        json={},\n",
        "        headers={\"X-API-Key\": allium_key},\n",
        "    )\n",
        "    dict_contents = response.json()\n",
        "    results_df = pd.DataFrame.from_dict(dict_contents[\"data\"])\n",
        "    return results_df"
      ]
    },
    {
      "cell_type": "code",
      "execution_count": 27,
      "metadata": {},
      "outputs": [
        {
          "data": {
            "text/html": [
              "<div>\n",
              "<style scoped>\n",
              "    .dataframe tbody tr th:only-of-type {\n",
              "        vertical-align: middle;\n",
              "    }\n",
              "\n",
              "    .dataframe tbody tr th {\n",
              "        vertical-align: top;\n",
              "    }\n",
              "\n",
              "    .dataframe thead th {\n",
              "        text-align: right;\n",
              "    }\n",
              "</style>\n",
              "<table border=\"1\" class=\"dataframe\">\n",
              "  <thead>\n",
              "    <tr style=\"text-align: right;\">\n",
              "      <th></th>\n",
              "      <th>first_block_num</th>\n",
              "      <th>first_block_dttm</th>\n",
              "      <th>last_block_num</th>\n",
              "      <th>last_block_dttm</th>\n",
              "      <th>latency_sec</th>\n",
              "      <th>total_blocks</th>\n",
              "      <th>runtime_sec</th>\n",
              "      <th>provider</th>\n",
              "    </tr>\n",
              "  </thead>\n",
              "  <tbody>\n",
              "    <tr>\n",
              "      <th>0</th>\n",
              "      <td>0</td>\n",
              "      <td>2015-07-30T03:26:13</td>\n",
              "      <td>17459738</td>\n",
              "      <td>2023-06-11T22:09:59</td>\n",
              "      <td>4328</td>\n",
              "      <td>17459739</td>\n",
              "      <td>8</td>\n",
              "      <td>allium</td>\n",
              "    </tr>\n",
              "  </tbody>\n",
              "</table>\n",
              "</div>"
            ],
            "text/plain": [
              "   first_block_num     first_block_dttm  last_block_num      last_block_dttm  \\\n",
              "0                0  2015-07-30T03:26:13        17459738  2023-06-11T22:09:59   \n",
              "\n",
              "   latency_sec  total_blocks  runtime_sec provider  \n",
              "0         4328      17459739            8   allium  "
            ]
          },
          "execution_count": 27,
          "metadata": {},
          "output_type": "execute_result"
        }
      ],
      "source": [
        "q = \"aOodXuZME6tFPYTrErjv\"\n",
        "allium_df = run_query(q, \"allium\")\n",
        "allium_df"
      ]
    },
    {
      "cell_type": "markdown",
      "metadata": {},
      "source": [
        "## [Footprint](https://footprint.network/)"
      ]
    },
    {
      "cell_type": "code",
      "execution_count": 42,
      "metadata": {},
      "outputs": [],
      "source": [
        "# Query Footprint using their API\n",
        "def query_footprint(q):\n",
        "    url = \"https://api.footprint.network/api/v1/native\"\n",
        "\n",
        "    payload = {\"query\": q}\n",
        "    headers = {\n",
        "        \"accept\": \"application/json\",\n",
        "        \"API-KEY\": footprint_key,\n",
        "        \"content-type\": \"application/json\",\n",
        "    }\n",
        "\n",
        "    response = requests.post(url, json=payload, headers=headers)\n",
        "    results_json = json.loads(response.text)[\"data\"]\n",
        "    results_df = pd.DataFrame.from_dict(results_json)\n",
        "    return results_df"
      ]
    },
    {
      "cell_type": "code",
      "execution_count": null,
      "metadata": {},
      "outputs": [],
      "source": [
        "q = \"\"\"\n",
        "select \n",
        "    max(number) latest_block_num\n",
        "    , max(timestamp) latest_block_dttm\n",
        "    , date_diff('second', max(timestamp), now()) latency_seconds\n",
        "from ethereum_blocks\n",
        "\"\"\"\n",
        "footprint_df = run_query(q, \"footprint\")\n",
        "footprint_df"
      ]
    },
    {
      "cell_type": "markdown",
      "metadata": {},
      "source": [
        "## Compare Results"
      ]
    },
    {
      "cell_type": "code",
      "execution_count": 35,
      "metadata": {},
      "outputs": [
        {
          "data": {
            "text/html": [
              "<style type=\"text/css\">\n",
              "#T_c67cb_row0_col4, #T_c67cb_row3_col6, #T_c67cb_row4_col5, #T_c67cb_row4_col6 {\n",
              "  background-color: #f7fbff;\n",
              "  color: #000000;\n",
              "}\n",
              "#T_c67cb_row0_col5, #T_c67cb_row5_col5 {\n",
              "  background-color: #1e6db2;\n",
              "  color: #f1f1f1;\n",
              "}\n",
              "#T_c67cb_row0_col6, #T_c67cb_row2_col6 {\n",
              "  background-color: #dfecf7;\n",
              "  color: #000000;\n",
              "}\n",
              "#T_c67cb_row1_col4, #T_c67cb_row2_col4, #T_c67cb_row3_col4 {\n",
              "  background-color: #0c56a0;\n",
              "  color: #f1f1f1;\n",
              "}\n",
              "#T_c67cb_row1_col5, #T_c67cb_row2_col5 {\n",
              "  background-color: #1c6bb0;\n",
              "  color: #f1f1f1;\n",
              "}\n",
              "#T_c67cb_row1_col6, #T_c67cb_row5_col6 {\n",
              "  background-color: #4e9acb;\n",
              "  color: #f1f1f1;\n",
              "}\n",
              "#T_c67cb_row3_col5, #T_c67cb_row6_col6, #T_c67cb_row7_col4 {\n",
              "  background-color: #08306b;\n",
              "  color: #f1f1f1;\n",
              "}\n",
              "#T_c67cb_row4_col4 {\n",
              "  background-color: #0b559f;\n",
              "  color: #f1f1f1;\n",
              "}\n",
              "#T_c67cb_row5_col4 {\n",
              "  background-color: #0a549e;\n",
              "  color: #f1f1f1;\n",
              "}\n",
              "#T_c67cb_row6_col4 {\n",
              "  background-color: #08478d;\n",
              "  color: #f1f1f1;\n",
              "}\n",
              "#T_c67cb_row6_col5 {\n",
              "  background-color: #2171b5;\n",
              "  color: #f1f1f1;\n",
              "}\n",
              "#T_c67cb_row7_col5 {\n",
              "  background-color: #2777b8;\n",
              "  color: #f1f1f1;\n",
              "}\n",
              "#T_c67cb_row7_col6 {\n",
              "  background-color: #77b5d9;\n",
              "  color: #000000;\n",
              "}\n",
              "</style>\n",
              "<table id=\"T_c67cb\">\n",
              "  <thead>\n",
              "    <tr>\n",
              "      <th class=\"blank level0\" >&nbsp;</th>\n",
              "      <th id=\"T_c67cb_level0_col0\" class=\"col_heading level0 col0\" >first_block_num</th>\n",
              "      <th id=\"T_c67cb_level0_col1\" class=\"col_heading level0 col1\" >first_block_dttm</th>\n",
              "      <th id=\"T_c67cb_level0_col2\" class=\"col_heading level0 col2\" >last_block_num</th>\n",
              "      <th id=\"T_c67cb_level0_col3\" class=\"col_heading level0 col3\" >last_block_dttm</th>\n",
              "      <th id=\"T_c67cb_level0_col4\" class=\"col_heading level0 col4\" >latency_sec</th>\n",
              "      <th id=\"T_c67cb_level0_col5\" class=\"col_heading level0 col5\" >total_blocks</th>\n",
              "      <th id=\"T_c67cb_level0_col6\" class=\"col_heading level0 col6\" >runtime_sec</th>\n",
              "    </tr>\n",
              "    <tr>\n",
              "      <th class=\"index_name level0\" >provider</th>\n",
              "      <th class=\"blank col0\" >&nbsp;</th>\n",
              "      <th class=\"blank col1\" >&nbsp;</th>\n",
              "      <th class=\"blank col2\" >&nbsp;</th>\n",
              "      <th class=\"blank col3\" >&nbsp;</th>\n",
              "      <th class=\"blank col4\" >&nbsp;</th>\n",
              "      <th class=\"blank col5\" >&nbsp;</th>\n",
              "      <th class=\"blank col6\" >&nbsp;</th>\n",
              "    </tr>\n",
              "  </thead>\n",
              "  <tbody>\n",
              "    <tr>\n",
              "      <th id=\"T_c67cb_level0_row0\" class=\"row_heading level0 row0\" >tokenflow</th>\n",
              "      <td id=\"T_c67cb_row0_col0\" class=\"data row0 col0\" >0</td>\n",
              "      <td id=\"T_c67cb_row0_col1\" class=\"data row0 col1\" >1970-01-01 00:00:00</td>\n",
              "      <td id=\"T_c67cb_row0_col2\" class=\"data row0 col2\" >17460022</td>\n",
              "      <td id=\"T_c67cb_row0_col3\" class=\"data row0 col3\" >2023-06-11 23:07:23</td>\n",
              "      <td id=\"T_c67cb_row0_col4\" class=\"data row0 col4\" >-24898</td>\n",
              "      <td id=\"T_c67cb_row0_col5\" class=\"data row0 col5\" >17460023</td>\n",
              "      <td id=\"T_c67cb_row0_col6\" class=\"data row0 col6\" >2</td>\n",
              "    </tr>\n",
              "    <tr>\n",
              "      <th id=\"T_c67cb_level0_row1\" class=\"row_heading level0 row1\" >transpose</th>\n",
              "      <td id=\"T_c67cb_row1_col0\" class=\"data row1 col0\" >1</td>\n",
              "      <td id=\"T_c67cb_row1_col1\" class=\"data row1 col1\" >2015-07-30T15:26:28Z</td>\n",
              "      <td id=\"T_c67cb_row1_col2\" class=\"data row1 col2\" >17460098</td>\n",
              "      <td id=\"T_c67cb_row1_col3\" class=\"data row1 col3\" >2023-06-11T23:22:35Z</td>\n",
              "      <td id=\"T_c67cb_row1_col4\" class=\"data row1 col4\" >6</td>\n",
              "      <td id=\"T_c67cb_row1_col5\" class=\"data row1 col5\" >17460098</td>\n",
              "      <td id=\"T_c67cb_row1_col6\" class=\"data row1 col6\" >10</td>\n",
              "    </tr>\n",
              "    <tr>\n",
              "      <th id=\"T_c67cb_level0_row2\" class=\"row_heading level0 row2\" >spice</th>\n",
              "      <td id=\"T_c67cb_row2_col0\" class=\"data row2 col0\" >0</td>\n",
              "      <td id=\"T_c67cb_row2_col1\" class=\"data row2 col1\" >1970-01-01 00:00:00</td>\n",
              "      <td id=\"T_c67cb_row2_col2\" class=\"data row2 col2\" >17460100</td>\n",
              "      <td id=\"T_c67cb_row2_col3\" class=\"data row2 col3\" >2023-06-11 23:22:59</td>\n",
              "      <td id=\"T_c67cb_row2_col4\" class=\"data row2 col4\" >7</td>\n",
              "      <td id=\"T_c67cb_row2_col5\" class=\"data row2 col5\" >17460101</td>\n",
              "      <td id=\"T_c67cb_row2_col6\" class=\"data row2 col6\" >2</td>\n",
              "    </tr>\n",
              "    <tr>\n",
              "      <th id=\"T_c67cb_level0_row3\" class=\"row_heading level0 row3\" >chainbase</th>\n",
              "      <td id=\"T_c67cb_row3_col0\" class=\"data row3 col0\" >0</td>\n",
              "      <td id=\"T_c67cb_row3_col1\" class=\"data row3 col1\" >1970-01-01 00:00:01</td>\n",
              "      <td id=\"T_c67cb_row3_col2\" class=\"data row3 col2\" >17460096</td>\n",
              "      <td id=\"T_c67cb_row3_col3\" class=\"data row3 col3\" >2023-06-11 23:22:11</td>\n",
              "      <td id=\"T_c67cb_row3_col4\" class=\"data row3 col4\" >49</td>\n",
              "      <td id=\"T_c67cb_row3_col5\" class=\"data row3 col5\" >17461780</td>\n",
              "      <td id=\"T_c67cb_row3_col6\" class=\"data row3 col6\" >0</td>\n",
              "    </tr>\n",
              "    <tr>\n",
              "      <th id=\"T_c67cb_level0_row4\" class=\"row_heading level0 row4\" >dune</th>\n",
              "      <td id=\"T_c67cb_row4_col0\" class=\"data row4 col0\" >1</td>\n",
              "      <td id=\"T_c67cb_row4_col1\" class=\"data row4 col1\" >2015-07-30 15:26:28.000 UTC</td>\n",
              "      <td id=\"T_c67cb_row4_col2\" class=\"data row4 col2\" >17454380</td>\n",
              "      <td id=\"T_c67cb_row4_col3\" class=\"data row4 col3\" >2023-06-11 04:02:47.000 UTC</td>\n",
              "      <td id=\"T_c67cb_row4_col4\" class=\"data row4 col4\" >198</td>\n",
              "      <td id=\"T_c67cb_row4_col5\" class=\"data row4 col5\" >17454380</td>\n",
              "      <td id=\"T_c67cb_row4_col6\" class=\"data row4 col6\" >0</td>\n",
              "    </tr>\n",
              "    <tr>\n",
              "      <th id=\"T_c67cb_level0_row5\" class=\"row_heading level0 row5\" >bigquery</th>\n",
              "      <td id=\"T_c67cb_row5_col0\" class=\"data row5 col0\" >0</td>\n",
              "      <td id=\"T_c67cb_row5_col1\" class=\"data row5 col1\" >1970-01-01 00:00:00+00:00</td>\n",
              "      <td id=\"T_c67cb_row5_col2\" class=\"data row5 col2\" >17460034</td>\n",
              "      <td id=\"T_c67cb_row5_col3\" class=\"data row5 col3\" >2023-06-11 23:09:47+00:00</td>\n",
              "      <td id=\"T_c67cb_row5_col4\" class=\"data row5 col4\" >232</td>\n",
              "      <td id=\"T_c67cb_row5_col5\" class=\"data row5 col5\" >17460035</td>\n",
              "      <td id=\"T_c67cb_row5_col6\" class=\"data row5 col6\" >10</td>\n",
              "    </tr>\n",
              "    <tr>\n",
              "      <th id=\"T_c67cb_level0_row6\" class=\"row_heading level0 row6\" >flipside</th>\n",
              "      <td id=\"T_c67cb_row6_col0\" class=\"data row6 col0\" >1</td>\n",
              "      <td id=\"T_c67cb_row6_col1\" class=\"data row6 col1\" >2015-07-30T15:26:28.000Z</td>\n",
              "      <td id=\"T_c67cb_row6_col2\" class=\"data row6 col2\" >17459911</td>\n",
              "      <td id=\"T_c67cb_row6_col3\" class=\"data row6 col3\" >2023-06-11T22:44:47.000Z</td>\n",
              "      <td id=\"T_c67cb_row6_col4\" class=\"data row6 col4\" >1719</td>\n",
              "      <td id=\"T_c67cb_row6_col5\" class=\"data row6 col5\" >17459911</td>\n",
              "      <td id=\"T_c67cb_row6_col6\" class=\"data row6 col6\" >17</td>\n",
              "    </tr>\n",
              "    <tr>\n",
              "      <th id=\"T_c67cb_level0_row7\" class=\"row_heading level0 row7\" >allium</th>\n",
              "      <td id=\"T_c67cb_row7_col0\" class=\"data row7 col0\" >0</td>\n",
              "      <td id=\"T_c67cb_row7_col1\" class=\"data row7 col1\" >2015-07-30T03:26:13</td>\n",
              "      <td id=\"T_c67cb_row7_col2\" class=\"data row7 col2\" >17459738</td>\n",
              "      <td id=\"T_c67cb_row7_col3\" class=\"data row7 col3\" >2023-06-11T22:09:59</td>\n",
              "      <td id=\"T_c67cb_row7_col4\" class=\"data row7 col4\" >4328</td>\n",
              "      <td id=\"T_c67cb_row7_col5\" class=\"data row7 col5\" >17459739</td>\n",
              "      <td id=\"T_c67cb_row7_col6\" class=\"data row7 col6\" >8</td>\n",
              "    </tr>\n",
              "  </tbody>\n",
              "</table>\n"
            ],
            "text/plain": [
              "<pandas.io.formats.style.Styler at 0x19ef6e18e50>"
            ]
          },
          "execution_count": 35,
          "metadata": {},
          "output_type": "execute_result"
        }
      ],
      "source": [
        "combined_df = pd.concat(\n",
        "    [\n",
        "        flipside_df,\n",
        "        transpose_df,\n",
        "        bigquery_df,\n",
        "        dune_df,\n",
        "        chainbase_df,\n",
        "        spice_df,\n",
        "        tokenflow_df,\n",
        "        allium_df,\n",
        "    ]\n",
        ")\n",
        "combined_df = (\n",
        "    combined_df.sort_values(  # [[\"provider\", \"total_blocks\", \"latency_sec\", \"runtime_sec\"]]\n",
        "        by=\"latency_sec\", ascending=True\n",
        "    )\n",
        "    .reset_index(drop=True)\n",
        "    .assign(total_blocks=lambda x: x[\"total_blocks\"].astype(int))\n",
        "    .set_index(\"provider\")\n",
        ")\n",
        "heatmap = combined_df.style.background_gradient(cmap=\"Blues\")\n",
        "heatmap"
      ]
    }
  ],
  "metadata": {
    "colab": {
      "provenance": []
    },
    "kernelspec": {
      "display_name": "Python 3",
      "name": "python3"
    },
    "language_info": {
      "codemirror_mode": {
        "name": "ipython",
        "version": 3
      },
      "file_extension": ".py",
      "mimetype": "text/x-python",
      "name": "python",
      "nbconvert_exporter": "python",
      "pygments_lexer": "ipython3",
      "version": "3.10.5"
    }
  },
  "nbformat": 4,
  "nbformat_minor": 0
}
