{
  "cells": [
    {
      "cell_type": "markdown",
      "metadata": {
        "id": "U2cIERTiROa_"
      },
      "source": [
        "# Query Blockchain Data\n",
        "**Purpose:** Learn how to easily query raw blockchain data via APIs from leading blockchain analytics platforms.\n",
        "\n",
        "Free:\n",
        "* [Flipside](https://flipsidecrypto.xyz/)\n",
        "* [Dune](https://dune.com/home)\n",
        "* [BigQuery](https://console.cloud.google.com/marketplace/browse)\n",
        "* [Transpose](https://www.transpose.io/)\n",
        "* [Chainbase](https://chainbase.online/)\n",
        "\n",
        "Paid:\n",
        "* [Spice](https://spice.xyz/)\n",
        "* [Footprint](https://footprint.network/)\n",
        "\n",
        "Snowflake:\n",
        "* [Coherent](https://coherent.xyz/)\n",
        "* [Token Flow](https://tokenflow.live/)\n",
        "* [Credmark](https://credmark.com/)\n"
      ]
    },
    {
      "cell_type": "code",
      "execution_count": null,
      "metadata": {
        "id": "qC-Gh5WzVRUy"
      },
      "outputs": [],
      "source": [
        "import json\n",
        "import pandas as pd\n",
        "import os\n",
        "import json\n",
        "from shroomdk import ShroomDK\n",
        "from google.cloud import bigquery, bigquery_storage, storage\n",
        "import time\n",
        "import requests\n",
        "import math\n",
        "from spicepy import Client\n",
        "from sqlalchemy import create_engine\n",
        "from snowflake.connector.pandas_tools import write_pandas\n",
        "from snowflake.sqlalchemy import URL\n",
        "from transpose import Transpose\n",
        "import datetime"
      ]
    },
    {
      "cell_type": "code",
      "execution_count": null,
      "metadata": {},
      "outputs": [],
      "source": [
        "with open(\"keys.json\", \"r\") as keys_file:\n",
        "    keys = json.load(keys_file)\n",
        "    flipside_key = keys[\"flipside_key\"]\n",
        "    chainbase_key = keys[\"chainbase_key\"]\n",
        "    makerdojo_key = keys[\"makerdojo_key\"]\n",
        "    spice_key = keys[\"spice_key\"]\n",
        "    footprint_key = keys[\"footprint_key\"]\n",
        "    transpose_key = keys[\"transpose_key\"]\n",
        "    snowflake_account = keys[\"snowflake_account\"]\n",
        "    snowflake_user = keys[\"snowflake_user\"]\n",
        "    snowflake_password = keys[\"snowflake_password\"]\n",
        "    snowflake_warehouse = keys[\"snowflake_warehouse\"]\n",
        "    dune_key = keys[\"dune_key\"]\n",
        "\n",
        "os.environ[\"GOOGLE_APPLICATION_CREDENTIALS\"] = \"keys.json\""
      ]
    },
    {
      "cell_type": "code",
      "execution_count": null,
      "metadata": {},
      "outputs": [],
      "source": [
        "def run_query(q, provider):\n",
        "    start = datetime.datetime.now()\n",
        "\n",
        "    # Dictionary of provider names and their respective query functions\n",
        "    provider_query = {\n",
        "        \"flipside\": query_flipside,\n",
        "        \"transpose\": query_transpose,\n",
        "        \"bigquery\": query_bigquery,\n",
        "        \"dune\": query_dune,\n",
        "        \"chainbase\": query_chainbase,\n",
        "        \"spice\": query_spice,\n",
        "        \"coherent\": query_snowflake,\n",
        "        \"tokenflow\": query_snowflake,\n",
        "        \"credmark\": query_snowflake,\n",
        "        \"footprint\": query_footprint,\n",
        "    }\n",
        "    df = provider_query[provider](q)\n",
        "\n",
        "    end = datetime.datetime.now()\n",
        "    runtime = int((end - start).total_seconds())\n",
        "    df[\"runtime_sec\"] = runtime\n",
        "    df[\"provider\"] = provider\n",
        "\n",
        "    return df"
      ]
    },
    {
      "cell_type": "markdown",
      "metadata": {
        "id": "DuFwUeDwRksV"
      },
      "source": [
        "## [Flipside](https://flipsidecrypto.xyz/)"
      ]
    },
    {
      "cell_type": "code",
      "execution_count": null,
      "metadata": {
        "colab": {
          "base_uri": "https://localhost:8080/",
          "height": 386
        },
        "id": "Gs3ndPZIRY5N",
        "outputId": "11c34661-b7ca-4729-cd1e-b12fba8c4b89"
      },
      "outputs": [],
      "source": [
        "# Query Flipside using their Python SDK\n",
        "def query_flipside(q):\n",
        "    sdk = ShroomDK(flipside_key)\n",
        "    result_list = []\n",
        "    for i in range(1, 11):  # max is a million rows @ 100k per page\n",
        "        data = sdk.query(q, page_size=100000, page_number=i)\n",
        "        if data.run_stats.record_count == 0:\n",
        "            break\n",
        "        else:\n",
        "            result_list.append(data.records)\n",
        "    result_df = pd.DataFrame()\n",
        "    for idx, each_list in enumerate(result_list):\n",
        "        if idx == 0:\n",
        "            result_df = pd.json_normalize(each_list)\n",
        "        else:\n",
        "            try:\n",
        "                result_df = pd.concat([result_df, pd.json_normalize(each_list)])\n",
        "            except:\n",
        "                continue\n",
        "    result_df.drop(columns=[\"__row_index\"], inplace=True)\n",
        "    return result_df"
      ]
    },
    {
      "cell_type": "code",
      "execution_count": null,
      "metadata": {},
      "outputs": [],
      "source": [
        "q = \"\"\"\n",
        "select \n",
        "    min(block_number) first_block_num\n",
        "    , min(block_timestamp) first_block_dttm\n",
        "    , max(block_number) last_block_num\n",
        "    , max(block_timestamp) last_block_dttm\n",
        "    , datediff('second', max(block_timestamp), current_timestamp) latency_sec\n",
        "    , count(1) total_blocks\n",
        "from ethereum.core.fact_blocks\n",
        "\"\"\"\n",
        "flipside_df = run_query(q, \"flipside\")\n",
        "flipside_df"
      ]
    },
    {
      "cell_type": "markdown",
      "metadata": {
        "id": "RAHuOGigPBfv"
      },
      "source": [
        "## [Dune](https://dune.com/home)"
      ]
    },
    {
      "cell_type": "code",
      "execution_count": null,
      "metadata": {},
      "outputs": [],
      "source": [
        "# Query Dune Analytics using API\n",
        "def query_dune(q):\n",
        "    url = f\"https://api.dune.com/api/v1/query/2296642/results?api_key={dune_key}\"\n",
        "    response = requests.get(url)\n",
        "    results_json = json.loads(response.text)[\"result\"][\"rows\"]\n",
        "    results_df = pd.DataFrame.from_dict(results_json)\n",
        "    return results_df"
      ]
    },
    {
      "cell_type": "code",
      "execution_count": null,
      "metadata": {},
      "outputs": [],
      "source": [
        "# https://dune.com/queries/2296642\n",
        "q = \"2296642\"\n",
        "dune_df = run_query(q, \"dune\")\n",
        "dune_df"
      ]
    },
    {
      "cell_type": "markdown",
      "metadata": {
        "id": "PUS4seCVBTVY"
      },
      "source": [
        "## [Google BigQuery](https://console.cloud.google.com/marketplace/browse)"
      ]
    },
    {
      "cell_type": "code",
      "execution_count": null,
      "metadata": {
        "colab": {
          "base_uri": "https://localhost:8080/",
          "height": 386
        },
        "id": "t9M9ilyWBTE3",
        "outputId": "64b1d5c1-419e-4951-9143-915e53012ced"
      },
      "outputs": [],
      "source": [
        "# Query BigQuery using their Python SDK\n",
        "def query_bigquery(q):\n",
        "    connection = bigquery_storage.BigQueryReadClient()\n",
        "    bqclient = bigquery.Client()\n",
        "    results_df = bqclient.query(q).result().to_dataframe(bqstorage_client=connection)\n",
        "    return results_df"
      ]
    },
    {
      "cell_type": "code",
      "execution_count": null,
      "metadata": {},
      "outputs": [],
      "source": [
        "q = \"\"\"\n",
        "select\n",
        "    min(number) as first_block_num\n",
        "    , min(`timestamp`) as first_block_dttm \n",
        "    , max(number) as last_block_num\n",
        "    , max(`timestamp`) as last_block_dttm\n",
        "    , timestamp_diff(current_timestamp(), max(`timestamp`), second) latency_sec\n",
        "    , count(1) total_blocks\n",
        "from `bigquery-public-data.crypto_ethereum.blocks`\n",
        "\"\"\"\n",
        "bigquery_df = run_query(q, \"bigquery\")\n",
        "bigquery_df"
      ]
    },
    {
      "cell_type": "markdown",
      "metadata": {
        "id": "3Zpev1GhXjBK"
      },
      "source": [
        "## [Transpose](https://www.transpose.io/)"
      ]
    },
    {
      "cell_type": "code",
      "execution_count": null,
      "metadata": {
        "colab": {
          "base_uri": "https://localhost:8080/",
          "height": 363
        },
        "id": "pyGLUCdtZEeY",
        "outputId": "8ad31eb3-3c36-42c7-a9bb-9ed41351ac59"
      },
      "outputs": [],
      "source": [
        "# Query Transpose using their API\n",
        "def query_transpose(q):\n",
        "    url = \"https://api.transpose.io/sql\"\n",
        "    headers = {\n",
        "        \"Content-Type\": \"application/json\",\n",
        "        \"X-API-KEY\": transpose_key,\n",
        "    }\n",
        "    response = requests.post(\n",
        "        url,\n",
        "        headers=headers,\n",
        "        json={\n",
        "            \"sql\": q,\n",
        "        },\n",
        "    )\n",
        "    results_json = json.loads(response.text)[\"results\"]\n",
        "    results_df = pd.DataFrame.from_dict(results_json)\n",
        "    return results_df"
      ]
    },
    {
      "cell_type": "code",
      "execution_count": null,
      "metadata": {},
      "outputs": [],
      "source": [
        "q = f\"\"\"\n",
        "select \n",
        "    min(block_number) first_block_num\n",
        "    , min(timestamp) first_block_dttm\n",
        "    , max(block_number) last_block_num\n",
        "    , max(timestamp) last_block_dttm\n",
        "    , EXTRACT(EPOCH FROM NOW() - MAX(blocks.timestamp))::INTEGER latency_sec\n",
        "    , count(1) total_blocks\n",
        "from ethereum.blocks\n",
        "\"\"\"\n",
        "transpose_df = run_query(q, \"transpose\")\n",
        "transpose_df"
      ]
    },
    {
      "cell_type": "markdown",
      "metadata": {},
      "source": [
        "## [Chainbase](https://chainbase.online/)"
      ]
    },
    {
      "cell_type": "code",
      "execution_count": null,
      "metadata": {},
      "outputs": [],
      "source": [
        "# Query Chainbase using their REST API\n",
        "def query_chainbase(q):\n",
        "    url = \"https://api.chainbase.online/v1/dw/query\"\n",
        "    payload = {\"query\": q}\n",
        "    headers = {\"x-api-key\": chainbase_key}\n",
        "    response = requests.post(url, json=payload, headers=headers)\n",
        "    task_id = response.json()[\"data\"][\"task_id\"]\n",
        "    row_ct = response.json()[\"data\"][\"rows\"]\n",
        "    all_results_df = pd.DataFrame([])\n",
        "    row_ct = math.ceil(response.json()[\"data\"][\"rows\"] / 1000)\n",
        "    if row_ct == 1:\n",
        "        data = response.json()[\"data\"][\"result\"]\n",
        "        all_results_df = pd.json_normalize(data)\n",
        "    else:\n",
        "        time.sleep(2)\n",
        "        for i in range(0, row_ct, 1):\n",
        "            payload = {\"task_id\": task_id, \"page\": i + 1}\n",
        "            response = requests.post(url, json=payload, headers=headers)\n",
        "            data = response.json()[\"data\"][\"result\"]\n",
        "            results_df = pd.json_normalize(data)\n",
        "            all_results_df = pd.concat([all_results_df, results_df])\n",
        "            time.sleep(2)\n",
        "    return all_results_df"
      ]
    },
    {
      "cell_type": "code",
      "execution_count": null,
      "metadata": {},
      "outputs": [],
      "source": [
        "q = \"\"\"\n",
        "select \n",
        "    min(number) first_block_num\n",
        "    , min(timestamp) first_block_dttm\n",
        "    , max(number) last_block_num\n",
        "    , max(timestamp) last_block_dttm\n",
        "    , (now() - max(timestamp)) latency_sec\n",
        "    , count(1) total_blocks\n",
        "from ethereum.blocks\n",
        "\"\"\"\n",
        "chainbase_df = run_query(q, \"chainbase\")\n",
        "chainbase_df"
      ]
    },
    {
      "cell_type": "markdown",
      "metadata": {},
      "source": [
        "## [Spice](https://spice.xyz/)"
      ]
    },
    {
      "cell_type": "code",
      "execution_count": null,
      "metadata": {},
      "outputs": [],
      "source": [
        "# Query Spice using their SDK\n",
        "def query_spice(q):\n",
        "    client = Client(spice_key)\n",
        "    reader = client.query(q)\n",
        "    results_df = reader.read_pandas()\n",
        "    return results_df"
      ]
    },
    {
      "cell_type": "code",
      "execution_count": null,
      "metadata": {},
      "outputs": [],
      "source": [
        "q = \"\"\"\n",
        "select \n",
        "    min(number) first_block_num\n",
        "    , to_timestamp(min(\"timestamp\")) first_block_dttm\n",
        "    , max(number) last_block_num\n",
        "    , to_timestamp(max(\"timestamp\")) last_block_dttm\n",
        "    , timestampdiff(second, to_timestamp(max(\"timestamp\")), current_timestamp) latency_sec\n",
        "    , count(1) total_blocks\n",
        "from eth.blocks\n",
        "\"\"\"\n",
        "spice_df = run_query(q, \"spice\")\n",
        "spice_df"
      ]
    },
    {
      "cell_type": "markdown",
      "metadata": {},
      "source": [
        "## [Coherent](https://coherent.xyz/)"
      ]
    },
    {
      "cell_type": "code",
      "execution_count": null,
      "metadata": {},
      "outputs": [],
      "source": [
        "# Query Coherent using their Snowflake API\n",
        "def query_snowflake(q):\n",
        "    conn = create_engine(\n",
        "        URL(\n",
        "            account=snowflake_account,\n",
        "            user=snowflake_user,\n",
        "            password=snowflake_password,\n",
        "            warehouse=snowflake_warehouse,\n",
        "        )\n",
        "    )\n",
        "    connection = conn.raw_connection()\n",
        "    q_results = connection.cursor().execute(q)\n",
        "    result_df = q_results.fetch_pandas_all()\n",
        "    result_df.columns = result_df.columns.str.lower()\n",
        "    return result_df"
      ]
    },
    {
      "cell_type": "code",
      "execution_count": null,
      "metadata": {},
      "outputs": [],
      "source": [
        "q = \"\"\"\n",
        "\"\"\"\n",
        "# coherent_df = run_query(q, \"coherent\")\n",
        "# coherent_df"
      ]
    },
    {
      "cell_type": "markdown",
      "metadata": {},
      "source": [
        "## [Credmark](https://credmark.com/)"
      ]
    },
    {
      "cell_type": "code",
      "execution_count": null,
      "metadata": {},
      "outputs": [],
      "source": [
        "q = \"\"\"\n",
        "\"\"\"\n",
        "# credmark_df = run_query(q, \"credmark\")\n",
        "# credmark_df"
      ]
    },
    {
      "cell_type": "markdown",
      "metadata": {},
      "source": [
        "## [Token Flow](https://tokenflow.live/)"
      ]
    },
    {
      "cell_type": "code",
      "execution_count": null,
      "metadata": {},
      "outputs": [],
      "source": [
        "q = \"\"\"\n",
        "select \n",
        "    min(block) first_block_num\n",
        "    , min(timestamp) first_block_dttm\n",
        "    , max(block) last_block_num\n",
        "    , max(timestamp) last_block_dttm\n",
        "    , datediff('second', max(timestamp), current_timestamp) latency_sec\n",
        "    , count(1) total_blocks\n",
        "from ethereum_data_warehouse_beta.raw.blocks\n",
        "\"\"\"\n",
        "tokenflow_df = run_query(q, \"tokenflow\")\n",
        "tokenflow_df"
      ]
    },
    {
      "cell_type": "markdown",
      "metadata": {},
      "source": [
        "## [Footprint](https://footprint.network/)"
      ]
    },
    {
      "cell_type": "code",
      "execution_count": null,
      "metadata": {},
      "outputs": [],
      "source": [
        "# Query Footprint using their API\n",
        "def query_footprint(q):\n",
        "    url = \"https://api.footprint.network/api/v1/native\"\n",
        "\n",
        "    payload = {\"query\": q}\n",
        "    headers = {\n",
        "        \"accept\": \"application/json\",\n",
        "        \"API-KEY\": footprint_key,\n",
        "        \"content-type\": \"application/json\",\n",
        "    }\n",
        "\n",
        "    response = requests.post(url, json=payload, headers=headers)\n",
        "    results_json = json.loads(response.text)[\"data\"]\n",
        "    results_df = pd.DataFrame.from_dict(results_json)\n",
        "    return results_df"
      ]
    },
    {
      "cell_type": "code",
      "execution_count": null,
      "metadata": {},
      "outputs": [],
      "source": [
        "q = \"\"\"\n",
        "select \n",
        "    max(number) latest_block_num\n",
        "    , max(timestamp) latest_block_dttm\n",
        "    , date_diff('second', max(timestamp), now()) latency_seconds\n",
        "from ethereum_blocks\n",
        "\"\"\"\n",
        "footprint_df = run_query(q, \"footprint\")\n",
        "footprint_df"
      ]
    },
    {
      "cell_type": "markdown",
      "metadata": {},
      "source": [
        "## Compare Results"
      ]
    },
    {
      "cell_type": "code",
      "execution_count": null,
      "metadata": {},
      "outputs": [],
      "source": [
        "combined_df = pd.concat(\n",
        "    [\n",
        "        flipside_df,\n",
        "        transpose_df,\n",
        "        bigquery_df,\n",
        "        dune_df,\n",
        "        chainbase_df,\n",
        "        spice_df,\n",
        "        tokenflow_df,\n",
        "    ]\n",
        ")\n",
        "combined_df = (\n",
        "    combined_df.sort_values(  # [[\"provider\", \"total_blocks\", \"latency_sec\", \"runtime_sec\"]]\n",
        "        by=\"latency_sec\", ascending=True\n",
        "    )\n",
        "    .reset_index(drop=True)\n",
        "    .assign(total_blocks=lambda x: x[\"total_blocks\"].astype(int))\n",
        "    .set_index(\"provider\")\n",
        ")\n",
        "heatmap = combined_df.style.background_gradient(cmap=\"Blues\")\n",
        "heatmap"
      ]
    }
  ],
  "metadata": {
    "colab": {
      "provenance": []
    },
    "kernelspec": {
      "display_name": "Python 3",
      "name": "python3"
    },
    "language_info": {
      "codemirror_mode": {
        "name": "ipython",
        "version": 3
      },
      "file_extension": ".py",
      "mimetype": "text/x-python",
      "name": "python",
      "nbconvert_exporter": "python",
      "pygments_lexer": "ipython3",
      "version": "3.10.5"
    }
  },
  "nbformat": 4,
  "nbformat_minor": 0
}
